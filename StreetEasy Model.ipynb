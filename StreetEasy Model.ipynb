{
 "cells": [
  {
   "cell_type": "markdown",
   "id": "a46f73f4-7215-4927-9f1f-1ea76b97ade9",
   "metadata": {},
   "source": [
    "# Street Easy\n",
    "This project will fit a multiple linear regression model to the data of [StreetEasy](https://streeteasy.com) to try and predict the price of the rental. The data contains a sample of 5,000 rentals of `Manhattan`, `Brooklyn`, and `Queens` that are active on StreetEasy in June 2016.\n",
    "\n",
    "The data has the next columns: \n",
    "- `rental_id`: rentaID\n",
    "- `rent`: price of rent in dollars\n",
    "- `bedrooms`: number of bedrooms\n",
    "- `bathrooms`: number of bathrooms\n",
    "- `size_sqft`: size in square feet\n",
    "- `min_to_subway`: distance from subway station in minutes\n",
    "- `floor`: floor number\n",
    "- `building_age_yrs`: building’s age in years\n",
    "- `no_fee`: does it have a broker fee? (0 for fee, 1 for no fee)\n",
    "- `has_roofdeck`: does it have a roof deck? (0 for no, 1 for yes)\n",
    "- `has_washer_dryer`: does it have washer/dryer in unit? (0/1)\n",
    "- `has_doorman`: does it have a doorman? (0/1)\n",
    "- `has_elevator`: does it have an elevator? (0/1)\n",
    "- `has_dishwasher`: does it have a dishwasher (0/1)\n",
    "- `has_patio`: does it have a patio? (0/1)\n",
    "- `has_gym`: does the building have a gym? (0/1)\n",
    "- `neighborhood`: (ex: Greenpoint)\n",
    "- `borough`: (ex: Brooklyn)"
   ]
  },
  {
   "cell_type": "markdown",
   "id": "2f83b1fc-9a7e-4b00-a7f8-e4af218c041c",
   "metadata": {},
   "source": [
    "## Import Python Modules\n",
    "First, import the preliminary modules that will be used in this project:"
   ]
  },
  {
   "cell_type": "code",
   "execution_count": 14,
   "id": "ae180642-e5ac-4d58-a9ec-4e4d44cb8e64",
   "metadata": {},
   "outputs": [],
   "source": [
    "import pandas as pd\n",
    "import matplotlib.pyplot as plt"
   ]
  },
  {
   "cell_type": "markdown",
   "id": "8b45eacf-8f86-4006-9ab0-498a0e1ac119",
   "metadata": {},
   "source": [
    "## Manhattan\n",
    "Now, lets load the data of Manhattan into `rentals_manhattan` and see the information:"
   ]
  },
  {
   "cell_type": "code",
   "execution_count": 8,
   "id": "d22e47f1-d53c-4b1a-b2cd-fe6f0ad693dd",
   "metadata": {},
   "outputs": [
    {
     "data": {
      "text/html": [
       "<div>\n",
       "<style scoped>\n",
       "    .dataframe tbody tr th:only-of-type {\n",
       "        vertical-align: middle;\n",
       "    }\n",
       "\n",
       "    .dataframe tbody tr th {\n",
       "        vertical-align: top;\n",
       "    }\n",
       "\n",
       "    .dataframe thead th {\n",
       "        text-align: right;\n",
       "    }\n",
       "</style>\n",
       "<table border=\"1\" class=\"dataframe\">\n",
       "  <thead>\n",
       "    <tr style=\"text-align: right;\">\n",
       "      <th></th>\n",
       "      <th>rental_id</th>\n",
       "      <th>rent</th>\n",
       "      <th>bedrooms</th>\n",
       "      <th>bathrooms</th>\n",
       "      <th>size_sqft</th>\n",
       "      <th>min_to_subway</th>\n",
       "      <th>floor</th>\n",
       "      <th>building_age_yrs</th>\n",
       "      <th>no_fee</th>\n",
       "      <th>has_roofdeck</th>\n",
       "      <th>has_washer_dryer</th>\n",
       "      <th>has_doorman</th>\n",
       "      <th>has_elevator</th>\n",
       "      <th>has_dishwasher</th>\n",
       "      <th>has_patio</th>\n",
       "      <th>has_gym</th>\n",
       "      <th>neighborhood</th>\n",
       "      <th>borough</th>\n",
       "    </tr>\n",
       "  </thead>\n",
       "  <tbody>\n",
       "    <tr>\n",
       "      <th>0</th>\n",
       "      <td>1545</td>\n",
       "      <td>2550</td>\n",
       "      <td>0.0</td>\n",
       "      <td>1</td>\n",
       "      <td>480</td>\n",
       "      <td>9</td>\n",
       "      <td>2.0</td>\n",
       "      <td>17</td>\n",
       "      <td>1</td>\n",
       "      <td>1</td>\n",
       "      <td>0</td>\n",
       "      <td>0</td>\n",
       "      <td>1</td>\n",
       "      <td>1</td>\n",
       "      <td>0</td>\n",
       "      <td>1</td>\n",
       "      <td>Upper East Side</td>\n",
       "      <td>Manhattan</td>\n",
       "    </tr>\n",
       "    <tr>\n",
       "      <th>1</th>\n",
       "      <td>2472</td>\n",
       "      <td>11500</td>\n",
       "      <td>2.0</td>\n",
       "      <td>2</td>\n",
       "      <td>2000</td>\n",
       "      <td>4</td>\n",
       "      <td>1.0</td>\n",
       "      <td>96</td>\n",
       "      <td>0</td>\n",
       "      <td>0</td>\n",
       "      <td>0</td>\n",
       "      <td>0</td>\n",
       "      <td>0</td>\n",
       "      <td>0</td>\n",
       "      <td>0</td>\n",
       "      <td>0</td>\n",
       "      <td>Greenwich Village</td>\n",
       "      <td>Manhattan</td>\n",
       "    </tr>\n",
       "    <tr>\n",
       "      <th>2</th>\n",
       "      <td>2919</td>\n",
       "      <td>4500</td>\n",
       "      <td>1.0</td>\n",
       "      <td>1</td>\n",
       "      <td>916</td>\n",
       "      <td>2</td>\n",
       "      <td>51.0</td>\n",
       "      <td>29</td>\n",
       "      <td>0</td>\n",
       "      <td>1</td>\n",
       "      <td>0</td>\n",
       "      <td>1</td>\n",
       "      <td>1</td>\n",
       "      <td>1</td>\n",
       "      <td>0</td>\n",
       "      <td>0</td>\n",
       "      <td>Midtown</td>\n",
       "      <td>Manhattan</td>\n",
       "    </tr>\n",
       "    <tr>\n",
       "      <th>3</th>\n",
       "      <td>2790</td>\n",
       "      <td>4795</td>\n",
       "      <td>1.0</td>\n",
       "      <td>1</td>\n",
       "      <td>975</td>\n",
       "      <td>3</td>\n",
       "      <td>8.0</td>\n",
       "      <td>31</td>\n",
       "      <td>0</td>\n",
       "      <td>0</td>\n",
       "      <td>0</td>\n",
       "      <td>1</td>\n",
       "      <td>1</td>\n",
       "      <td>1</td>\n",
       "      <td>0</td>\n",
       "      <td>1</td>\n",
       "      <td>Greenwich Village</td>\n",
       "      <td>Manhattan</td>\n",
       "    </tr>\n",
       "    <tr>\n",
       "      <th>4</th>\n",
       "      <td>3946</td>\n",
       "      <td>17500</td>\n",
       "      <td>2.0</td>\n",
       "      <td>2</td>\n",
       "      <td>4800</td>\n",
       "      <td>3</td>\n",
       "      <td>4.0</td>\n",
       "      <td>136</td>\n",
       "      <td>0</td>\n",
       "      <td>0</td>\n",
       "      <td>0</td>\n",
       "      <td>1</td>\n",
       "      <td>1</td>\n",
       "      <td>1</td>\n",
       "      <td>0</td>\n",
       "      <td>1</td>\n",
       "      <td>Soho</td>\n",
       "      <td>Manhattan</td>\n",
       "    </tr>\n",
       "  </tbody>\n",
       "</table>\n",
       "</div>"
      ],
      "text/plain": [
       "   rental_id   rent  bedrooms  bathrooms  size_sqft  min_to_subway  floor  \\\n",
       "0       1545   2550       0.0          1        480              9    2.0   \n",
       "1       2472  11500       2.0          2       2000              4    1.0   \n",
       "2       2919   4500       1.0          1        916              2   51.0   \n",
       "3       2790   4795       1.0          1        975              3    8.0   \n",
       "4       3946  17500       2.0          2       4800              3    4.0   \n",
       "\n",
       "   building_age_yrs  no_fee  has_roofdeck  has_washer_dryer  has_doorman  \\\n",
       "0                17       1             1                 0            0   \n",
       "1                96       0             0                 0            0   \n",
       "2                29       0             1                 0            1   \n",
       "3                31       0             0                 0            1   \n",
       "4               136       0             0                 0            1   \n",
       "\n",
       "   has_elevator  has_dishwasher  has_patio  has_gym       neighborhood  \\\n",
       "0             1               1          0        1    Upper East Side   \n",
       "1             0               0          0        0  Greenwich Village   \n",
       "2             1               1          0        0            Midtown   \n",
       "3             1               1          0        1  Greenwich Village   \n",
       "4             1               1          0        1               Soho   \n",
       "\n",
       "     borough  \n",
       "0  Manhattan  \n",
       "1  Manhattan  \n",
       "2  Manhattan  \n",
       "3  Manhattan  \n",
       "4  Manhattan  "
      ]
     },
     "execution_count": 8,
     "metadata": {},
     "output_type": "execute_result"
    }
   ],
   "source": [
    "manhattan = pd.read_csv('https://raw.githubusercontent.com/Codecademy/datasets/master/streeteasy/manhattan.csv')\n",
    "manhattan.head()"
   ]
  },
  {
   "cell_type": "markdown",
   "id": "c9afe05d-8ae8-4bff-8f8a-49a8dc7574e5",
   "metadata": {},
   "source": [
    "## Train and Test Set\n",
    "Now, lets split the data into a train and test set to evaluate the model later on. A 80/20 ratio will be used."
   ]
  },
  {
   "cell_type": "code",
   "execution_count": 9,
   "id": "e04c6dfe-6033-41ed-90e7-7cb91a30877a",
   "metadata": {},
   "outputs": [
    {
     "name": "stdout",
     "output_type": "stream",
     "text": [
      "Shapes of the train and test data\n",
      "(2831, 14)\n",
      "(708, 14)\n",
      "(2831,)\n",
      "(708,)\n"
     ]
    }
   ],
   "source": [
    "# Function from sklearn to separate the data\n",
    "from sklearn.model_selection import train_test_split\n",
    "\n",
    "# Get the independent features to predict the rental price\n",
    "X = manhattan[['bedrooms',\n",
    "                            'bathrooms',\n",
    "                            'size_sqft',\n",
    "                            'min_to_subway',\n",
    "                            'floor',\n",
    "                            'building_age_yrs',\n",
    "                            'no_fee',\n",
    "                            'has_roofdeck',\n",
    "                            'has_washer_dryer',\n",
    "                            'has_doorman',\n",
    "                            'has_elevator',\n",
    "                            'has_dishwasher',\n",
    "                            'has_patio',\n",
    "                            'has_gym']]\n",
    "\n",
    "y = rentals_manhattan['rent']\n",
    "\n",
    "# Get the different data\n",
    "X_train, X_test, y_train, y_test = train_test_split(X, y,train_size=0.8, test_size=0.2, random_state=6)\n",
    "print('Shapes of the train and test data')\n",
    "print(X_train.shape)\n",
    "print(X_test.shape)\n",
    "print(y_train.shape)\n",
    "print(y_test.shape)"
   ]
  },
  {
   "cell_type": "markdown",
   "id": "7598cdd6-ceea-4c00-be26-d820dd450653",
   "metadata": {},
   "source": [
    "## Fit the Model"
   ]
  },
  {
   "cell_type": "markdown",
   "id": "7870679a-bbcc-42ff-a39c-3d0d0857a0ff",
   "metadata": {},
   "source": [
    "Now, lets use the linear regression method in sklearn to fit the model and obtain the predicted values for the test data."
   ]
  },
  {
   "cell_type": "code",
   "execution_count": 10,
   "id": "c97e8842-aad6-4e2f-b26c-459760eccaa5",
   "metadata": {},
   "outputs": [],
   "source": [
    "from sklearn.linear_model import LinearRegression\n",
    "\n",
    "model = LinearRegression()\n",
    "model.fit(X_train, y_train)\n",
    "\n",
    "y_predicted = model.predict(X_test)"
   ]
  },
  {
   "cell_type": "markdown",
   "id": "ddee394e-ba0b-4f18-8917-a0cf2f38e1d2",
   "metadata": {},
   "source": [
    "## Evaluation"
   ]
  },
  {
   "cell_type": "markdown",
   "id": "6254c252-be6e-4604-bb5b-18012d4a1354",
   "metadata": {},
   "source": [
    "For the last step on analyzing the rentals in Manhattan, lets see the score of the model using `score()`. This function gives the coefficient of determination $R^{2}$ that tells us how much our X features can explain the variation that exist on `Y`. As we can see below, both scores are above 0.7, which could be considered good."
   ]
  },
  {
   "cell_type": "code",
   "execution_count": 19,
   "id": "de48eccd-bbd4-4043-a584-d8f33f96cdfe",
   "metadata": {},
   "outputs": [
    {
     "name": "stdout",
     "output_type": "stream",
     "text": [
      "Train score:\n",
      "0.7725460559817883\n",
      "\n",
      "Test score:\n",
      "0.8050371975357635\n"
     ]
    }
   ],
   "source": [
    "print(\"Train score:\")\n",
    "print(model.score(X_train, y_train))\n",
    "print()\n",
    "print(\"Test score:\")\n",
    "print(model.score(X_test, y_test))"
   ]
  },
  {
   "cell_type": "markdown",
   "id": "59b5829b-dc14-4d70-98d7-48f04cfe1c79",
   "metadata": {},
   "source": [
    "## Visualization"
   ]
  },
  {
   "cell_type": "markdown",
   "id": "4a933bb0-7218-41b0-8986-4f10387fa4ea",
   "metadata": {},
   "source": [
    "Now, lets plot the `y_train` data vs the actual `y` data to compare the predictions."
   ]
  },
  {
   "cell_type": "code",
   "execution_count": 16,
   "id": "8b0d4e8a-7844-47b5-aa8e-c109e66105cf",
   "metadata": {},
   "outputs": [
    {
     "data": {
      "image/png": "[encoded data removed]",
      "text/plain": [
       "<Figure size 640x480 with 1 Axes>"
      ]
     },
     "metadata": {},
     "output_type": "display_data"
    },
    {
     "data": {
      "text/plain": [
       "<Figure size 640x480 with 0 Axes>"
      ]
     },
     "metadata": {},
     "output_type": "display_data"
    }
   ],
   "source": [
    "plt.scatter(y_test, y_predicted)\n",
    "plt.plot(range(20000), range(20000))\n",
    "\n",
    "plt.xlabel(\"Prices: $Y_i$\")\n",
    "plt.ylabel(\"Predicted prices: $\\hat{Y}_i$\")\n",
    "plt.title(\"Actual Rent vs Predicted Rent\")\n",
    "\n",
    "plt.show()\n",
    "plt.clf()"
   ]
  },
  {
   "cell_type": "markdown",
   "id": "28d49217-7f7a-4669-8dfd-fec858e2941e",
   "metadata": {},
   "source": [
    "## Brooklyn and Queens\n",
    "Now that the model that predicted rental prices for Manhattan is done, lets now do the same for Brooklyn and Queens. First, lets load the data and visualize it."
   ]
  },
  {
   "cell_type": "code",
   "execution_count": 17,
   "id": "db918580-0df4-462e-a190-00e2cdf3430e",
   "metadata": {},
   "outputs": [
    {
     "data": {
      "text/html": [
       "<div>\n",
       "<style scoped>\n",
       "    .dataframe tbody tr th:only-of-type {\n",
       "        vertical-align: middle;\n",
       "    }\n",
       "\n",
       "    .dataframe tbody tr th {\n",
       "        vertical-align: top;\n",
       "    }\n",
       "\n",
       "    .dataframe thead th {\n",
       "        text-align: right;\n",
       "    }\n",
       "</style>\n",
       "<table border=\"1\" class=\"dataframe\">\n",
       "  <thead>\n",
       "    <tr style=\"text-align: right;\">\n",
       "      <th></th>\n",
       "      <th>rental_id</th>\n",
       "      <th>rent</th>\n",
       "      <th>bedrooms</th>\n",
       "      <th>bathrooms</th>\n",
       "      <th>size_sqft</th>\n",
       "      <th>min_to_subway</th>\n",
       "      <th>floor</th>\n",
       "      <th>building_age_yrs</th>\n",
       "      <th>no_fee</th>\n",
       "      <th>has_roofdeck</th>\n",
       "      <th>has_washer_dryer</th>\n",
       "      <th>has_doorman</th>\n",
       "      <th>has_elevator</th>\n",
       "      <th>has_dishwasher</th>\n",
       "      <th>has_patio</th>\n",
       "      <th>has_gym</th>\n",
       "      <th>neighborhood</th>\n",
       "      <th>borough</th>\n",
       "    </tr>\n",
       "  </thead>\n",
       "  <tbody>\n",
       "    <tr>\n",
       "      <th>0</th>\n",
       "      <td>2869</td>\n",
       "      <td>3600</td>\n",
       "      <td>3.0</td>\n",
       "      <td>2</td>\n",
       "      <td>900</td>\n",
       "      <td>4</td>\n",
       "      <td>1.0</td>\n",
       "      <td>15</td>\n",
       "      <td>1</td>\n",
       "      <td>0</td>\n",
       "      <td>0</td>\n",
       "      <td>0</td>\n",
       "      <td>0</td>\n",
       "      <td>0</td>\n",
       "      <td>0</td>\n",
       "      <td>0</td>\n",
       "      <td>Williamsburg</td>\n",
       "      <td>Brooklyn</td>\n",
       "    </tr>\n",
       "    <tr>\n",
       "      <th>1</th>\n",
       "      <td>4318</td>\n",
       "      <td>3900</td>\n",
       "      <td>3.0</td>\n",
       "      <td>2</td>\n",
       "      <td>1000</td>\n",
       "      <td>4</td>\n",
       "      <td>9.0</td>\n",
       "      <td>8</td>\n",
       "      <td>0</td>\n",
       "      <td>0</td>\n",
       "      <td>0</td>\n",
       "      <td>0</td>\n",
       "      <td>1</td>\n",
       "      <td>0</td>\n",
       "      <td>0</td>\n",
       "      <td>0</td>\n",
       "      <td>Greenwood</td>\n",
       "      <td>Brooklyn</td>\n",
       "    </tr>\n",
       "    <tr>\n",
       "      <th>2</th>\n",
       "      <td>6265</td>\n",
       "      <td>2700</td>\n",
       "      <td>2.0</td>\n",
       "      <td>1</td>\n",
       "      <td>900</td>\n",
       "      <td>4</td>\n",
       "      <td>2.0</td>\n",
       "      <td>96</td>\n",
       "      <td>0</td>\n",
       "      <td>0</td>\n",
       "      <td>0</td>\n",
       "      <td>0</td>\n",
       "      <td>0</td>\n",
       "      <td>0</td>\n",
       "      <td>0</td>\n",
       "      <td>0</td>\n",
       "      <td>Gowanus</td>\n",
       "      <td>Brooklyn</td>\n",
       "    </tr>\n",
       "    <tr>\n",
       "      <th>3</th>\n",
       "      <td>24</td>\n",
       "      <td>4900</td>\n",
       "      <td>1.0</td>\n",
       "      <td>1</td>\n",
       "      <td>1216</td>\n",
       "      <td>6</td>\n",
       "      <td>3.0</td>\n",
       "      <td>88</td>\n",
       "      <td>0</td>\n",
       "      <td>0</td>\n",
       "      <td>0</td>\n",
       "      <td>0</td>\n",
       "      <td>0</td>\n",
       "      <td>0</td>\n",
       "      <td>0</td>\n",
       "      <td>0</td>\n",
       "      <td>Brooklyn Heights</td>\n",
       "      <td>Brooklyn</td>\n",
       "    </tr>\n",
       "    <tr>\n",
       "      <th>4</th>\n",
       "      <td>9481</td>\n",
       "      <td>3900</td>\n",
       "      <td>0.0</td>\n",
       "      <td>1</td>\n",
       "      <td>1100</td>\n",
       "      <td>3</td>\n",
       "      <td>4.0</td>\n",
       "      <td>85</td>\n",
       "      <td>1</td>\n",
       "      <td>0</td>\n",
       "      <td>0</td>\n",
       "      <td>0</td>\n",
       "      <td>0</td>\n",
       "      <td>0</td>\n",
       "      <td>0</td>\n",
       "      <td>0</td>\n",
       "      <td>Williamsburg</td>\n",
       "      <td>Brooklyn</td>\n",
       "    </tr>\n",
       "  </tbody>\n",
       "</table>\n",
       "</div>"
      ],
      "text/plain": [
       "   rental_id  rent  bedrooms  bathrooms  size_sqft  min_to_subway  floor  \\\n",
       "0       2869  3600       3.0          2        900              4    1.0   \n",
       "1       4318  3900       3.0          2       1000              4    9.0   \n",
       "2       6265  2700       2.0          1        900              4    2.0   \n",
       "3         24  4900       1.0          1       1216              6    3.0   \n",
       "4       9481  3900       0.0          1       1100              3    4.0   \n",
       "\n",
       "   building_age_yrs  no_fee  has_roofdeck  has_washer_dryer  has_doorman  \\\n",
       "0                15       1             0                 0            0   \n",
       "1                 8       0             0                 0            0   \n",
       "2                96       0             0                 0            0   \n",
       "3                88       0             0                 0            0   \n",
       "4                85       1             0                 0            0   \n",
       "\n",
       "   has_elevator  has_dishwasher  has_patio  has_gym      neighborhood  \\\n",
       "0             0               0          0        0      Williamsburg   \n",
       "1             1               0          0        0         Greenwood   \n",
       "2             0               0          0        0           Gowanus   \n",
       "3             0               0          0        0  Brooklyn Heights   \n",
       "4             0               0          0        0      Williamsburg   \n",
       "\n",
       "    borough  \n",
       "0  Brooklyn  \n",
       "1  Brooklyn  \n",
       "2  Brooklyn  \n",
       "3  Brooklyn  \n",
       "4  Brooklyn  "
      ]
     },
     "execution_count": 17,
     "metadata": {},
     "output_type": "execute_result"
    }
   ],
   "source": [
    "brooklyn = pd.read_csv('https://raw.githubusercontent.com/Codecademy/datasets/master/streeteasy/brooklyn.csv')\n",
    "brooklyn.head()"
   ]
  },
  {
   "cell_type": "code",
   "execution_count": 18,
   "id": "b31ab51d-ce51-49a2-be32-285506379bab",
   "metadata": {},
   "outputs": [
    {
     "data": {
      "text/html": [
       "<div>\n",
       "<style scoped>\n",
       "    .dataframe tbody tr th:only-of-type {\n",
       "        vertical-align: middle;\n",
       "    }\n",
       "\n",
       "    .dataframe tbody tr th {\n",
       "        vertical-align: top;\n",
       "    }\n",
       "\n",
       "    .dataframe thead th {\n",
       "        text-align: right;\n",
       "    }\n",
       "</style>\n",
       "<table border=\"1\" class=\"dataframe\">\n",
       "  <thead>\n",
       "    <tr style=\"text-align: right;\">\n",
       "      <th></th>\n",
       "      <th>rental_id</th>\n",
       "      <th>rent</th>\n",
       "      <th>bedrooms</th>\n",
       "      <th>bathrooms</th>\n",
       "      <th>size_sqft</th>\n",
       "      <th>min_to_subway</th>\n",
       "      <th>floor</th>\n",
       "      <th>building_age_yrs</th>\n",
       "      <th>no_fee</th>\n",
       "      <th>has_roofdeck</th>\n",
       "      <th>has_washer_dryer</th>\n",
       "      <th>has_doorman</th>\n",
       "      <th>has_elevator</th>\n",
       "      <th>has_dishwasher</th>\n",
       "      <th>has_patio</th>\n",
       "      <th>has_gym</th>\n",
       "      <th>neighborhood</th>\n",
       "      <th>borough</th>\n",
       "    </tr>\n",
       "  </thead>\n",
       "  <tbody>\n",
       "    <tr>\n",
       "      <th>0</th>\n",
       "      <td>10234</td>\n",
       "      <td>3000</td>\n",
       "      <td>3.0</td>\n",
       "      <td>1</td>\n",
       "      <td>1000</td>\n",
       "      <td>4</td>\n",
       "      <td>1.0</td>\n",
       "      <td>106</td>\n",
       "      <td>0</td>\n",
       "      <td>0</td>\n",
       "      <td>0</td>\n",
       "      <td>0</td>\n",
       "      <td>0</td>\n",
       "      <td>0</td>\n",
       "      <td>0</td>\n",
       "      <td>0</td>\n",
       "      <td>Astoria</td>\n",
       "      <td>Queens</td>\n",
       "    </tr>\n",
       "    <tr>\n",
       "      <th>1</th>\n",
       "      <td>10524</td>\n",
       "      <td>1950</td>\n",
       "      <td>1.0</td>\n",
       "      <td>1</td>\n",
       "      <td>950</td>\n",
       "      <td>1</td>\n",
       "      <td>3.0</td>\n",
       "      <td>83</td>\n",
       "      <td>0</td>\n",
       "      <td>0</td>\n",
       "      <td>0</td>\n",
       "      <td>0</td>\n",
       "      <td>0</td>\n",
       "      <td>0</td>\n",
       "      <td>0</td>\n",
       "      <td>0</td>\n",
       "      <td>Forest Hills</td>\n",
       "      <td>Queens</td>\n",
       "    </tr>\n",
       "    <tr>\n",
       "      <th>2</th>\n",
       "      <td>5465</td>\n",
       "      <td>3500</td>\n",
       "      <td>1.0</td>\n",
       "      <td>1</td>\n",
       "      <td>996</td>\n",
       "      <td>9</td>\n",
       "      <td>7.0</td>\n",
       "      <td>3</td>\n",
       "      <td>1</td>\n",
       "      <td>0</td>\n",
       "      <td>0</td>\n",
       "      <td>0</td>\n",
       "      <td>0</td>\n",
       "      <td>0</td>\n",
       "      <td>0</td>\n",
       "      <td>0</td>\n",
       "      <td>Astoria</td>\n",
       "      <td>Queens</td>\n",
       "    </tr>\n",
       "    <tr>\n",
       "      <th>3</th>\n",
       "      <td>5259</td>\n",
       "      <td>1725</td>\n",
       "      <td>1.0</td>\n",
       "      <td>1</td>\n",
       "      <td>800</td>\n",
       "      <td>1</td>\n",
       "      <td>2.0</td>\n",
       "      <td>89</td>\n",
       "      <td>0</td>\n",
       "      <td>0</td>\n",
       "      <td>0</td>\n",
       "      <td>0</td>\n",
       "      <td>0</td>\n",
       "      <td>0</td>\n",
       "      <td>0</td>\n",
       "      <td>0</td>\n",
       "      <td>Astoria</td>\n",
       "      <td>Queens</td>\n",
       "    </tr>\n",
       "    <tr>\n",
       "      <th>4</th>\n",
       "      <td>9736</td>\n",
       "      <td>1700</td>\n",
       "      <td>1.0</td>\n",
       "      <td>1</td>\n",
       "      <td>730</td>\n",
       "      <td>10</td>\n",
       "      <td>3.0</td>\n",
       "      <td>7</td>\n",
       "      <td>0</td>\n",
       "      <td>0</td>\n",
       "      <td>0</td>\n",
       "      <td>0</td>\n",
       "      <td>0</td>\n",
       "      <td>0</td>\n",
       "      <td>0</td>\n",
       "      <td>0</td>\n",
       "      <td>Briarwood</td>\n",
       "      <td>Queens</td>\n",
       "    </tr>\n",
       "  </tbody>\n",
       "</table>\n",
       "</div>"
      ],
      "text/plain": [
       "   rental_id  rent  bedrooms  bathrooms  size_sqft  min_to_subway  floor  \\\n",
       "0      10234  3000       3.0          1       1000              4    1.0   \n",
       "1      10524  1950       1.0          1        950              1    3.0   \n",
       "2       5465  3500       1.0          1        996              9    7.0   \n",
       "3       5259  1725       1.0          1        800              1    2.0   \n",
       "4       9736  1700       1.0          1        730             10    3.0   \n",
       "\n",
       "   building_age_yrs  no_fee  has_roofdeck  has_washer_dryer  has_doorman  \\\n",
       "0               106       0             0                 0            0   \n",
       "1                83       0             0                 0            0   \n",
       "2                 3       1             0                 0            0   \n",
       "3                89       0             0                 0            0   \n",
       "4                 7       0             0                 0            0   \n",
       "\n",
       "   has_elevator  has_dishwasher  has_patio  has_gym  neighborhood borough  \n",
       "0             0               0          0        0       Astoria  Queens  \n",
       "1             0               0          0        0  Forest Hills  Queens  \n",
       "2             0               0          0        0       Astoria  Queens  \n",
       "3             0               0          0        0       Astoria  Queens  \n",
       "4             0               0          0        0     Briarwood  Queens  "
      ]
     },
     "execution_count": 18,
     "metadata": {},
     "output_type": "execute_result"
    }
   ],
   "source": [
    "queens = pd.read_csv('https://raw.githubusercontent.com/Codecademy/datasets/master/streeteasy/queens.csv')\n",
    "queens.head()"
   ]
  },
  {
   "cell_type": "markdown",
   "id": "271aaa9b-a749-4740-be4b-42c6c6a0f674",
   "metadata": {},
   "source": [
    "## Fit the Model\n",
    "Now, lets separate the data into training data and test data for both datasets and fit the model."
   ]
  },
  {
   "cell_type": "markdown",
   "id": "de5e6695-513e-4679-ac30-cbcacd1015da",
   "metadata": {},
   "source": [
    "### Brooklyn\n",
    "Lets start first for creating the model for the Brooklyn data set."
   ]
  },
  {
   "cell_type": "code",
   "execution_count": 20,
   "id": "75161895-9ce8-43c6-95d0-251a83918c5b",
   "metadata": {},
   "outputs": [],
   "source": [
    "# Get the independent features to predict the rental price\n",
    "X = brooklyn[['bedrooms',\n",
    "            'bathrooms',\n",
    "            'size_sqft',\n",
    "            'min_to_subway',\n",
    "            'floor',\n",
    "            'building_age_yrs',\n",
    "            'no_fee',\n",
    "            'has_roofdeck',\n",
    "            'has_washer_dryer',\n",
    "            'has_doorman',\n",
    "            'has_elevator',\n",
    "            'has_dishwasher',\n",
    "            'has_patio',\n",
    "            'has_gym']]\n",
    "\n",
    "y = brooklyn['rent']\n",
    "\n",
    "# Get the different data\n",
    "X_train, X_test, y_train, y_test = train_test_split(X, y,train_size=0.8, test_size=0.2, random_state=6)\n",
    "\n",
    "model = LinearRegression()\n",
    "model.fit(X_train, y_train)\n",
    "\n",
    "y_predicted = model.predict(X_test)"
   ]
  },
  {
   "cell_type": "markdown",
   "id": "776f23d9-50cc-428a-8505-2b93372fe19b",
   "metadata": {},
   "source": [
    "#### Evaluation\n",
    "Now, lets see the coefficient of determination to find how the model performed."
   ]
  },
  {
   "cell_type": "code",
   "execution_count": 22,
   "id": "67003c08-dad7-401a-9b6a-bd45030927c5",
   "metadata": {},
   "outputs": [
    {
     "name": "stdout",
     "output_type": "stream",
     "text": [
      "Train score:\n",
      "0.6132214537979526\n",
      "\n",
      "Test score:\n",
      "0.5843499238725762\n"
     ]
    }
   ],
   "source": [
    "print(\"Train score:\")\n",
    "print(model.score(X_train, y_train))\n",
    "print()\n",
    "print(\"Test score:\")\n",
    "print(model.score(X_test, y_test))"
   ]
  },
  {
   "cell_type": "markdown",
   "id": "9c875142-d68e-40d7-b7fb-88392ae81552",
   "metadata": {},
   "source": [
    "#### Improvement\n",
    "Lets try improving the score of the model. First, lets see the coefficients of each feature to see how can they be modified for the improvement of the model"
   ]
  },
  {
   "cell_type": "code",
   "execution_count": 24,
   "id": "c81dbc0f-a9f6-4814-8bd2-fd1fe043f230",
   "metadata": {},
   "outputs": [
    {
     "data": {
      "text/plain": [
       "array([-196.67177625,  785.40073377,    2.94579148,  -37.78690683,\n",
       "         13.01784892,   -4.10092423,  123.089506  ,   99.61520874,\n",
       "        -14.55629062, -330.26816471,   85.07118067,  -11.78666927,\n",
       "        260.68383056,  396.24793842])"
      ]
     },
     "execution_count": 24,
     "metadata": {},
     "output_type": "execute_result"
    }
   ],
   "source": [
    "model.coef_"
   ]
  },
  {
   "cell_type": "markdown",
   "id": "6193290c-b026-433e-9b6d-2b5591996927",
   "metadata": {},
   "source": [
    "Lets see how the model performs when the variables that have the least amount of weight are removed. As seen below, even when some variables are removed the test score increases some decimals and the train set decrease a small amount. By chaning some data, the columns that start with `has_` are the ones that when removed the scores dont change too much. The one column that its change affected the most the scores was `size_sqft`. "
   ]
  },
  {
   "cell_type": "code",
   "execution_count": 71,
   "id": "c3300a8e-de61-44d0-bdba-2f3a02db8389",
   "metadata": {},
   "outputs": [
    {
     "name": "stdout",
     "output_type": "stream",
     "text": [
      "Train score:\n",
      "0.6047749476710153\n",
      "\n",
      "Test score:\n",
      "0.5882514201153065\n"
     ]
    },
    {
     "data": {
      "text/plain": [
       "array([-184.03897773,  785.22282872,    2.90894767,   16.16865539,\n",
       "         -3.99985573,  141.38104631,  184.45446498,   70.59533585,\n",
       "       -197.89199077,  171.62471826,  -10.81411791,  359.31702643])"
      ]
     },
     "execution_count": 71,
     "metadata": {},
     "output_type": "execute_result"
    }
   ],
   "source": [
    "# Get the independent features to predict the rental price\n",
    "X = brooklyn[['bedrooms',\n",
    "            'bathrooms',\n",
    "            'size_sqft',\n",
    "            #'min_to_subway',\n",
    "            'floor',\n",
    "            'building_age_yrs',\n",
    "            'no_fee',\n",
    "            'has_roofdeck',\n",
    "            'has_washer_dryer',\n",
    "            'has_doorman',\n",
    "            'has_elevator',\n",
    "            'has_dishwasher',\n",
    "            'has_patio',\n",
    "            #'has_gym' \n",
    "             ]]\n",
    "\n",
    "y = brooklyn['rent']\n",
    "\n",
    "# Get the different data\n",
    "X_train, X_test, y_train, y_test = train_test_split(X, y,train_size=0.8, test_size=0.2, random_state=6)\n",
    "\n",
    "model = LinearRegression()\n",
    "model.fit(X_train, y_train)\n",
    "\n",
    "y_predicted = model.predict(X_test)\n",
    "\n",
    "print(\"Train score:\")\n",
    "print(model.score(X_train, y_train))\n",
    "print()\n",
    "print(\"Test score:\")\n",
    "print(model.score(X_test, y_test))"
   ]
  },
  {
   "cell_type": "markdown",
   "id": "5e78f1c2-e965-4fbe-b5fe-56daa1acff5f",
   "metadata": {},
   "source": [
    "### Queens\n",
    "Lets do the same for the dataset of Queens. First train and evaluate the model."
   ]
  },
  {
   "cell_type": "code",
   "execution_count": 75,
   "id": "d16dea1b-4377-49ed-b0df-9bad9d7189cf",
   "metadata": {},
   "outputs": [
    {
     "name": "stdout",
     "output_type": "stream",
     "text": [
      "Train score:\n",
      "0.6658360310089573\n",
      "\n",
      "Test score:\n",
      "0.6651703197808251\n"
     ]
    }
   ],
   "source": [
    "# Get the independent features to predict the rental price\n",
    "X = queens[['bedrooms',\n",
    "            'bathrooms',\n",
    "            'size_sqft',\n",
    "            'min_to_subway',\n",
    "            'floor',\n",
    "            'building_age_yrs',\n",
    "            'no_fee',\n",
    "            'has_roofdeck',\n",
    "            'has_washer_dryer',\n",
    "            'has_doorman',\n",
    "            'has_elevator',\n",
    "            'has_dishwasher',\n",
    "            'has_patio',\n",
    "            'has_gym']]\n",
    "\n",
    "y = queens['rent']\n",
    "\n",
    "# Get the different data\n",
    "X_train, X_test, y_train, y_test = train_test_split(X, y,train_size=0.8, test_size=0.2, random_state=6)\n",
    "\n",
    "model = LinearRegression()\n",
    "model.fit(X_train, y_train)\n",
    "\n",
    "y_predicted = model.predict(X_test)\n",
    "\n",
    "print(\"Train score:\")\n",
    "print(model.score(X_train, y_train))\n",
    "print()\n",
    "print(\"Test score:\")\n",
    "print(model.score(X_test, y_test))"
   ]
  },
  {
   "cell_type": "markdown",
   "id": "517ecef2-b332-477c-b1b2-be48ac0e0d2d",
   "metadata": {},
   "source": [
    "#### Improvement\n",
    "Lets now see the coefficients and see if removing or changing any columns improve the result. "
   ]
  },
  {
   "cell_type": "code",
   "execution_count": 76,
   "id": "43368a69-b596-494a-89f9-ab9cbde826a2",
   "metadata": {},
   "outputs": [
    {
     "data": {
      "text/plain": [
       "array([ 259.49483776,  472.15466299,    0.97777539,  -10.29535775,\n",
       "         33.05646388,   -8.12803401,  259.14494075,   62.78960059,\n",
       "        124.40966155,   56.38161397,  157.69503746, -195.65879788,\n",
       "        237.50188285,   84.89712538])"
      ]
     },
     "execution_count": 76,
     "metadata": {},
     "output_type": "execute_result"
    }
   ],
   "source": [
    "model.coef_"
   ]
  },
  {
   "cell_type": "markdown",
   "id": "7f2af996-247b-464f-b3db-333b1ec6c1eb",
   "metadata": {},
   "source": [
    "Similar to the case of Brooklyn, removing some variables cause the scores to go a little down. The variables starting with `has_` again are the ones with the least amount of impact on the score. "
   ]
  },
  {
   "cell_type": "code",
   "execution_count": 86,
   "id": "3b98ac25-a2f0-41c2-9ca3-b1298d60ae67",
   "metadata": {},
   "outputs": [
    {
     "name": "stdout",
     "output_type": "stream",
     "text": [
      "Train score:\n",
      "0.6658360310089573\n",
      "\n",
      "Test score:\n",
      "0.6651703197808251\n"
     ]
    }
   ],
   "source": [
    "# Get the independent features to predict the rental price\n",
    "X = queens[['bedrooms',\n",
    "            'bathrooms',\n",
    "            'size_sqft',\n",
    "            'min_to_subway',\n",
    "            'floor',\n",
    "            'building_age_yrs',\n",
    "            'no_fee',\n",
    "            'has_roofdeck',\n",
    "            'has_washer_dryer',\n",
    "            'has_doorman',\n",
    "            'has_elevator',\n",
    "            'has_dishwasher',\n",
    "            'has_patio',\n",
    "            'has_gym' \n",
    "             ]]\n",
    "\n",
    "y = queens['rent']\n",
    "\n",
    "# Get the different data\n",
    "X_train, X_test, y_train, y_test = train_test_split(X, y,train_size=0.8, test_size=0.2, random_state=6)\n",
    "\n",
    "model = LinearRegression()\n",
    "model.fit(X_train, y_train)\n",
    "\n",
    "y_predicted = model.predict(X_test)\n",
    "\n",
    "print(\"Train score:\")\n",
    "print(model.score(X_train, y_train))\n",
    "print()\n",
    "print(\"Test score:\")\n",
    "print(model.score(X_test, y_test))"
   ]
  },
  {
   "cell_type": "markdown",
   "id": "3764c5bc-32a0-45ae-b935-85981e0f28d1",
   "metadata": {},
   "source": [
    "## Conclusion\n",
    "From using the data and creating the model, overall the scores and predictions where good. The one with the greates score and most accurate wa"
   ]
  }
 ],
 "metadata": {
  "kernelspec": {
   "display_name": "Python 3 (ipykernel)",
   "language": "python",
   "name": "python3"
  },
  "language_info": {
   "codemirror_mode": {
    "name": "ipython",
    "version": 3
   },
   "file_extension": ".py",
   "mimetype": "text/x-python",
   "name": "python",
   "nbconvert_exporter": "python",
   "pygments_lexer": "ipython3",
   "version": "3.10.13"
  }
 },
 "nbformat": 4,
 "nbformat_minor": 5
}
