{
 "cells": [
  {
   "cell_type": "markdown",
   "id": "3bf3d8f1-85b7-4c0a-b673-9453cf46209f",
   "metadata": {},
   "source": [
    "# Street Easy\n",
    "This project will investigate if there is a relation between the economic output of a country and the life expectancy of its citizens.\r\n",
    "\r\n",
    "The goal is to prepare data, analyse the data with plots, and find conclusions.\r\n",
    "\r\n",
    "Here are a few questions that this project will seek to answer:\r\n",
    "\r\n",
    "Has life expectancy increased over time in the six nations?\r\n",
    "Is there a correlation between GDP and life expectancy of a country?\r\n",
    "What is the average life expectancy in these nations?\r\n",
    "What is the distribution of that life expectancy?\r\n",
    "Data sources\r\n",
    "\r\n",
    "GDP Source: World Bank national accounts data, and OECD National Accounts data files.\r\n",
    "\r\n",
    "Life expectancy Data Source: World Health Organization"
   ]
  },
  {
   "cell_type": "code",
   "execution_count": null,
   "id": "6c8da7be-e907-4bbc-bf75-782040b8a65d",
   "metadata": {},
   "outputs": [],
   "source": []
  }
 ],
 "metadata": {
  "kernelspec": {
   "display_name": "Python 3 (ipykernel)",
   "language": "python",
   "name": "python3"
  },
  "language_info": {
   "codemirror_mode": {
    "name": "ipython",
    "version": 3
   },
   "file_extension": ".py",
   "mimetype": "text/x-python",
   "name": "python",
   "nbconvert_exporter": "python",
   "pygments_lexer": "ipython3",
   "version": "3.11.5"
  }
 },
 "nbformat": 4,
 "nbformat_minor": 5
}
